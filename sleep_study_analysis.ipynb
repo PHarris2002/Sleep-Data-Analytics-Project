{
 "cells": [
  {
   "cell_type": "markdown",
   "metadata": {},
   "source": [
    "# Data Analysis Description"
   ]
  },
  {
   "cell_type": "markdown",
   "metadata": {},
   "source": [
    "The purpose of this data analysis is to compare survey results (Sleep Study Data) to calculated statistics (Stress in Sleep) and to find out if there are any correlations and contradictions between a person's sleep behavior and how the person describes their sleeping habits. The two datasets are not directly related, but I can compare similar values to discover these contradictions.\n",
    "\n",
    "The reason why I wanted to use two datasets because there isn't as much data as I wanted for each dataset.\n",
    "\n",
    "Update: I later realized that \"Stress in Sleep\" dataset is generated data (data not created through artificial means), so part of this analysis has became a way to identify generated data."
   ]
  },
  {
   "cell_type": "markdown",
   "metadata": {},
   "source": [
    "# Data Setup"
   ]
  },
  {
   "cell_type": "markdown",
   "metadata": {},
   "source": [
    "### Import Modules"
   ]
  },
  {
   "cell_type": "code",
   "execution_count": 71,
   "metadata": {},
   "outputs": [],
   "source": [
    "import pandas as pd\n",
    "import matplotlib.pyplot as plt\n",
    "import seaborn as sns\n",
    "import numpy as np\n",
    "\n",
    "pd.set_option('display.max_columns', None)\n",
    "pd.set_option('display.max_rows', 500)"
   ]
  },
  {
   "cell_type": "markdown",
   "metadata": {},
   "source": [
    "### Import of CSV files"
   ]
  },
  {
   "cell_type": "code",
   "execution_count": 72,
   "metadata": {},
   "outputs": [],
   "source": [
    "sleep_study_df = pd.read_csv(\"SleepStudyData.csv\")\n",
    "stress_in_sleep_df = pd.read_csv(\"StressInSleep.csv\")"
   ]
  },
  {
   "cell_type": "markdown",
   "metadata": {},
   "source": [
    "### Head and Tail of Sleep Study Data\n",
    "\n",
    "To get a feel for how the data looks, specifically the columns."
   ]
  },
  {
   "cell_type": "code",
   "execution_count": 73,
   "metadata": {},
   "outputs": [
    {
     "data": {
      "text/html": [
       "<div>\n",
       "<style scoped>\n",
       "    .dataframe tbody tr th:only-of-type {\n",
       "        vertical-align: middle;\n",
       "    }\n",
       "\n",
       "    .dataframe tbody tr th {\n",
       "        vertical-align: top;\n",
       "    }\n",
       "\n",
       "    .dataframe thead th {\n",
       "        text-align: right;\n",
       "    }\n",
       "</style>\n",
       "<table border=\"1\" class=\"dataframe\">\n",
       "  <thead>\n",
       "    <tr style=\"text-align: right;\">\n",
       "      <th></th>\n",
       "      <th>Enough</th>\n",
       "      <th>Hours</th>\n",
       "      <th>PhoneReach</th>\n",
       "      <th>PhoneTime</th>\n",
       "      <th>Tired</th>\n",
       "      <th>Breakfast</th>\n",
       "    </tr>\n",
       "  </thead>\n",
       "  <tbody>\n",
       "    <tr>\n",
       "      <th>0</th>\n",
       "      <td>Yes</td>\n",
       "      <td>8.0</td>\n",
       "      <td>Yes</td>\n",
       "      <td>Yes</td>\n",
       "      <td>3</td>\n",
       "      <td>Yes</td>\n",
       "    </tr>\n",
       "    <tr>\n",
       "      <th>1</th>\n",
       "      <td>No</td>\n",
       "      <td>6.0</td>\n",
       "      <td>Yes</td>\n",
       "      <td>Yes</td>\n",
       "      <td>3</td>\n",
       "      <td>No</td>\n",
       "    </tr>\n",
       "    <tr>\n",
       "      <th>2</th>\n",
       "      <td>Yes</td>\n",
       "      <td>6.0</td>\n",
       "      <td>Yes</td>\n",
       "      <td>Yes</td>\n",
       "      <td>2</td>\n",
       "      <td>Yes</td>\n",
       "    </tr>\n",
       "    <tr>\n",
       "      <th>3</th>\n",
       "      <td>No</td>\n",
       "      <td>7.0</td>\n",
       "      <td>Yes</td>\n",
       "      <td>Yes</td>\n",
       "      <td>4</td>\n",
       "      <td>No</td>\n",
       "    </tr>\n",
       "    <tr>\n",
       "      <th>4</th>\n",
       "      <td>No</td>\n",
       "      <td>7.0</td>\n",
       "      <td>Yes</td>\n",
       "      <td>Yes</td>\n",
       "      <td>2</td>\n",
       "      <td>Yes</td>\n",
       "    </tr>\n",
       "  </tbody>\n",
       "</table>\n",
       "</div>"
      ],
      "text/plain": [
       "  Enough  Hours PhoneReach PhoneTime  Tired Breakfast\n",
       "0    Yes    8.0        Yes       Yes      3       Yes\n",
       "1     No    6.0        Yes       Yes      3        No\n",
       "2    Yes    6.0        Yes       Yes      2       Yes\n",
       "3     No    7.0        Yes       Yes      4        No\n",
       "4     No    7.0        Yes       Yes      2       Yes"
      ]
     },
     "execution_count": 73,
     "metadata": {},
     "output_type": "execute_result"
    }
   ],
   "source": [
    "sleep_study_df.head()"
   ]
  },
  {
   "cell_type": "code",
   "execution_count": 74,
   "metadata": {},
   "outputs": [
    {
     "data": {
      "text/html": [
       "<div>\n",
       "<style scoped>\n",
       "    .dataframe tbody tr th:only-of-type {\n",
       "        vertical-align: middle;\n",
       "    }\n",
       "\n",
       "    .dataframe tbody tr th {\n",
       "        vertical-align: top;\n",
       "    }\n",
       "\n",
       "    .dataframe thead th {\n",
       "        text-align: right;\n",
       "    }\n",
       "</style>\n",
       "<table border=\"1\" class=\"dataframe\">\n",
       "  <thead>\n",
       "    <tr style=\"text-align: right;\">\n",
       "      <th></th>\n",
       "      <th>Enough</th>\n",
       "      <th>Hours</th>\n",
       "      <th>PhoneReach</th>\n",
       "      <th>PhoneTime</th>\n",
       "      <th>Tired</th>\n",
       "      <th>Breakfast</th>\n",
       "    </tr>\n",
       "  </thead>\n",
       "  <tbody>\n",
       "    <tr>\n",
       "      <th>99</th>\n",
       "      <td>No</td>\n",
       "      <td>7.0</td>\n",
       "      <td>Yes</td>\n",
       "      <td>Yes</td>\n",
       "      <td>2</td>\n",
       "      <td>Yes</td>\n",
       "    </tr>\n",
       "    <tr>\n",
       "      <th>100</th>\n",
       "      <td>No</td>\n",
       "      <td>7.0</td>\n",
       "      <td>No</td>\n",
       "      <td>Yes</td>\n",
       "      <td>3</td>\n",
       "      <td>Yes</td>\n",
       "    </tr>\n",
       "    <tr>\n",
       "      <th>101</th>\n",
       "      <td>Yes</td>\n",
       "      <td>8.0</td>\n",
       "      <td>Yes</td>\n",
       "      <td>Yes</td>\n",
       "      <td>3</td>\n",
       "      <td>Yes</td>\n",
       "    </tr>\n",
       "    <tr>\n",
       "      <th>102</th>\n",
       "      <td>Yes</td>\n",
       "      <td>7.0</td>\n",
       "      <td>Yes</td>\n",
       "      <td>Yes</td>\n",
       "      <td>2</td>\n",
       "      <td>Yes</td>\n",
       "    </tr>\n",
       "    <tr>\n",
       "      <th>103</th>\n",
       "      <td>Yes</td>\n",
       "      <td>6.0</td>\n",
       "      <td>Yes</td>\n",
       "      <td>Yes</td>\n",
       "      <td>3</td>\n",
       "      <td>Yes</td>\n",
       "    </tr>\n",
       "  </tbody>\n",
       "</table>\n",
       "</div>"
      ],
      "text/plain": [
       "    Enough  Hours PhoneReach PhoneTime  Tired Breakfast\n",
       "99      No    7.0        Yes       Yes      2       Yes\n",
       "100     No    7.0         No       Yes      3       Yes\n",
       "101    Yes    8.0        Yes       Yes      3       Yes\n",
       "102    Yes    7.0        Yes       Yes      2       Yes\n",
       "103    Yes    6.0        Yes       Yes      3       Yes"
      ]
     },
     "execution_count": 74,
     "metadata": {},
     "output_type": "execute_result"
    }
   ],
   "source": [
    "sleep_study_df.tail()"
   ]
  },
  {
   "cell_type": "markdown",
   "metadata": {},
   "source": [
    "Observation: All columns seem pretty fairly easy to understand, but will rename later to have more clarity."
   ]
  },
  {
   "cell_type": "markdown",
   "metadata": {},
   "source": [
    "### Head and Tail of Stress in Sleep Data"
   ]
  },
  {
   "cell_type": "code",
   "execution_count": 75,
   "metadata": {},
   "outputs": [
    {
     "data": {
      "text/html": [
       "<div>\n",
       "<style scoped>\n",
       "    .dataframe tbody tr th:only-of-type {\n",
       "        vertical-align: middle;\n",
       "    }\n",
       "\n",
       "    .dataframe tbody tr th {\n",
       "        vertical-align: top;\n",
       "    }\n",
       "\n",
       "    .dataframe thead th {\n",
       "        text-align: right;\n",
       "    }\n",
       "</style>\n",
       "<table border=\"1\" class=\"dataframe\">\n",
       "  <thead>\n",
       "    <tr style=\"text-align: right;\">\n",
       "      <th></th>\n",
       "      <th>sr</th>\n",
       "      <th>rr</th>\n",
       "      <th>t</th>\n",
       "      <th>lm</th>\n",
       "      <th>bo</th>\n",
       "      <th>rem</th>\n",
       "      <th>sr.1</th>\n",
       "      <th>hr</th>\n",
       "      <th>sl</th>\n",
       "    </tr>\n",
       "  </thead>\n",
       "  <tbody>\n",
       "    <tr>\n",
       "      <th>0</th>\n",
       "      <td>93.80</td>\n",
       "      <td>25.680</td>\n",
       "      <td>91.840</td>\n",
       "      <td>16.600</td>\n",
       "      <td>89.840</td>\n",
       "      <td>99.60</td>\n",
       "      <td>1.840</td>\n",
       "      <td>74.20</td>\n",
       "      <td>3</td>\n",
       "    </tr>\n",
       "    <tr>\n",
       "      <th>1</th>\n",
       "      <td>91.64</td>\n",
       "      <td>25.104</td>\n",
       "      <td>91.552</td>\n",
       "      <td>15.880</td>\n",
       "      <td>89.552</td>\n",
       "      <td>98.88</td>\n",
       "      <td>1.552</td>\n",
       "      <td>72.76</td>\n",
       "      <td>3</td>\n",
       "    </tr>\n",
       "    <tr>\n",
       "      <th>2</th>\n",
       "      <td>60.00</td>\n",
       "      <td>20.000</td>\n",
       "      <td>96.000</td>\n",
       "      <td>10.000</td>\n",
       "      <td>95.000</td>\n",
       "      <td>85.00</td>\n",
       "      <td>7.000</td>\n",
       "      <td>60.00</td>\n",
       "      <td>1</td>\n",
       "    </tr>\n",
       "    <tr>\n",
       "      <th>3</th>\n",
       "      <td>85.76</td>\n",
       "      <td>23.536</td>\n",
       "      <td>90.768</td>\n",
       "      <td>13.920</td>\n",
       "      <td>88.768</td>\n",
       "      <td>96.92</td>\n",
       "      <td>0.768</td>\n",
       "      <td>68.84</td>\n",
       "      <td>3</td>\n",
       "    </tr>\n",
       "    <tr>\n",
       "      <th>4</th>\n",
       "      <td>48.12</td>\n",
       "      <td>17.248</td>\n",
       "      <td>97.872</td>\n",
       "      <td>6.496</td>\n",
       "      <td>96.248</td>\n",
       "      <td>72.48</td>\n",
       "      <td>8.248</td>\n",
       "      <td>53.12</td>\n",
       "      <td>0</td>\n",
       "    </tr>\n",
       "  </tbody>\n",
       "</table>\n",
       "</div>"
      ],
      "text/plain": [
       "      sr      rr       t      lm      bo    rem   sr.1     hr  sl\n",
       "0  93.80  25.680  91.840  16.600  89.840  99.60  1.840  74.20   3\n",
       "1  91.64  25.104  91.552  15.880  89.552  98.88  1.552  72.76   3\n",
       "2  60.00  20.000  96.000  10.000  95.000  85.00  7.000  60.00   1\n",
       "3  85.76  23.536  90.768  13.920  88.768  96.92  0.768  68.84   3\n",
       "4  48.12  17.248  97.872   6.496  96.248  72.48  8.248  53.12   0"
      ]
     },
     "execution_count": 75,
     "metadata": {},
     "output_type": "execute_result"
    }
   ],
   "source": [
    "stress_in_sleep_df.head()"
   ]
  },
  {
   "cell_type": "code",
   "execution_count": 76,
   "metadata": {},
   "outputs": [
    {
     "data": {
      "text/html": [
       "<div>\n",
       "<style scoped>\n",
       "    .dataframe tbody tr th:only-of-type {\n",
       "        vertical-align: middle;\n",
       "    }\n",
       "\n",
       "    .dataframe tbody tr th {\n",
       "        vertical-align: top;\n",
       "    }\n",
       "\n",
       "    .dataframe thead th {\n",
       "        text-align: right;\n",
       "    }\n",
       "</style>\n",
       "<table border=\"1\" class=\"dataframe\">\n",
       "  <thead>\n",
       "    <tr style=\"text-align: right;\">\n",
       "      <th></th>\n",
       "      <th>sr</th>\n",
       "      <th>rr</th>\n",
       "      <th>t</th>\n",
       "      <th>lm</th>\n",
       "      <th>bo</th>\n",
       "      <th>rem</th>\n",
       "      <th>sr.1</th>\n",
       "      <th>hr</th>\n",
       "      <th>sl</th>\n",
       "    </tr>\n",
       "  </thead>\n",
       "  <tbody>\n",
       "    <tr>\n",
       "      <th>625</th>\n",
       "      <td>69.600</td>\n",
       "      <td>20.960</td>\n",
       "      <td>92.960</td>\n",
       "      <td>10.960</td>\n",
       "      <td>90.960</td>\n",
       "      <td>89.80</td>\n",
       "      <td>3.440</td>\n",
       "      <td>62.40</td>\n",
       "      <td>2</td>\n",
       "    </tr>\n",
       "    <tr>\n",
       "      <th>626</th>\n",
       "      <td>48.440</td>\n",
       "      <td>17.376</td>\n",
       "      <td>98.064</td>\n",
       "      <td>6.752</td>\n",
       "      <td>96.376</td>\n",
       "      <td>73.76</td>\n",
       "      <td>8.376</td>\n",
       "      <td>53.44</td>\n",
       "      <td>0</td>\n",
       "    </tr>\n",
       "    <tr>\n",
       "      <th>627</th>\n",
       "      <td>97.504</td>\n",
       "      <td>27.504</td>\n",
       "      <td>86.880</td>\n",
       "      <td>17.752</td>\n",
       "      <td>84.256</td>\n",
       "      <td>101.88</td>\n",
       "      <td>0.000</td>\n",
       "      <td>78.76</td>\n",
       "      <td>4</td>\n",
       "    </tr>\n",
       "    <tr>\n",
       "      <th>628</th>\n",
       "      <td>58.640</td>\n",
       "      <td>19.728</td>\n",
       "      <td>95.728</td>\n",
       "      <td>9.728</td>\n",
       "      <td>94.592</td>\n",
       "      <td>84.32</td>\n",
       "      <td>6.728</td>\n",
       "      <td>59.32</td>\n",
       "      <td>1</td>\n",
       "    </tr>\n",
       "    <tr>\n",
       "      <th>629</th>\n",
       "      <td>73.920</td>\n",
       "      <td>21.392</td>\n",
       "      <td>93.392</td>\n",
       "      <td>11.392</td>\n",
       "      <td>91.392</td>\n",
       "      <td>91.96</td>\n",
       "      <td>4.088</td>\n",
       "      <td>63.48</td>\n",
       "      <td>2</td>\n",
       "    </tr>\n",
       "  </tbody>\n",
       "</table>\n",
       "</div>"
      ],
      "text/plain": [
       "         sr      rr       t      lm      bo     rem   sr.1     hr  sl\n",
       "625  69.600  20.960  92.960  10.960  90.960   89.80  3.440  62.40   2\n",
       "626  48.440  17.376  98.064   6.752  96.376   73.76  8.376  53.44   0\n",
       "627  97.504  27.504  86.880  17.752  84.256  101.88  0.000  78.76   4\n",
       "628  58.640  19.728  95.728   9.728  94.592   84.32  6.728  59.32   1\n",
       "629  73.920  21.392  93.392  11.392  91.392   91.96  4.088  63.48   2"
      ]
     },
     "execution_count": 76,
     "metadata": {},
     "output_type": "execute_result"
    }
   ],
   "source": [
    "stress_in_sleep_df.tail()"
   ]
  },
  {
   "cell_type": "markdown",
   "metadata": {},
   "source": [
    "Observation: All columns here are hard to understand, so I will definitely rename these to match the column names mentioned on the dataset description."
   ]
  },
  {
   "cell_type": "markdown",
   "metadata": {},
   "source": [
    "### Data Cleanup and Column Renaming\n",
    "Column names should be easy to understand."
   ]
  },
  {
   "cell_type": "code",
   "execution_count": 77,
   "metadata": {},
   "outputs": [],
   "source": [
    "#sleep_study\n",
    "sleep_study_df.rename(columns={'Enough':'enough_sleep', 'Hours':'sleeping_hours', 'PhoneReach':'phone_reach', 'PhoneTime':'phone_time', 'Tired':'tiredness_rating', 'Breakfast':'had_breakfast'}, inplace=True)\n",
    "\n",
    "#stress_in_sleep\n",
    "stress_in_sleep_df.rename(columns={'sr':'snoring_rate', 'rr':'respiration_rate', 't':'body_temperature', 'lm':'limb_movement', 'bo':'body_oxygen', 'rem':'eye_movement', 'sr.1':'sleeping_hours', 'hr':'heart_rate', 'sl':'stress_level'}, inplace=True)"
   ]
  },
  {
   "cell_type": "code",
   "execution_count": 78,
   "metadata": {},
   "outputs": [
    {
     "data": {
      "text/html": [
       "<div>\n",
       "<style scoped>\n",
       "    .dataframe tbody tr th:only-of-type {\n",
       "        vertical-align: middle;\n",
       "    }\n",
       "\n",
       "    .dataframe tbody tr th {\n",
       "        vertical-align: top;\n",
       "    }\n",
       "\n",
       "    .dataframe thead th {\n",
       "        text-align: right;\n",
       "    }\n",
       "</style>\n",
       "<table border=\"1\" class=\"dataframe\">\n",
       "  <thead>\n",
       "    <tr style=\"text-align: right;\">\n",
       "      <th></th>\n",
       "      <th>enough_sleep</th>\n",
       "      <th>sleeping_hours</th>\n",
       "      <th>phone_reach</th>\n",
       "      <th>phone_time</th>\n",
       "      <th>tiredness_rating</th>\n",
       "      <th>had_breakfast</th>\n",
       "    </tr>\n",
       "  </thead>\n",
       "  <tbody>\n",
       "    <tr>\n",
       "      <th>0</th>\n",
       "      <td>Yes</td>\n",
       "      <td>8.0</td>\n",
       "      <td>Yes</td>\n",
       "      <td>Yes</td>\n",
       "      <td>3</td>\n",
       "      <td>Yes</td>\n",
       "    </tr>\n",
       "    <tr>\n",
       "      <th>1</th>\n",
       "      <td>No</td>\n",
       "      <td>6.0</td>\n",
       "      <td>Yes</td>\n",
       "      <td>Yes</td>\n",
       "      <td>3</td>\n",
       "      <td>No</td>\n",
       "    </tr>\n",
       "    <tr>\n",
       "      <th>2</th>\n",
       "      <td>Yes</td>\n",
       "      <td>6.0</td>\n",
       "      <td>Yes</td>\n",
       "      <td>Yes</td>\n",
       "      <td>2</td>\n",
       "      <td>Yes</td>\n",
       "    </tr>\n",
       "    <tr>\n",
       "      <th>3</th>\n",
       "      <td>No</td>\n",
       "      <td>7.0</td>\n",
       "      <td>Yes</td>\n",
       "      <td>Yes</td>\n",
       "      <td>4</td>\n",
       "      <td>No</td>\n",
       "    </tr>\n",
       "    <tr>\n",
       "      <th>4</th>\n",
       "      <td>No</td>\n",
       "      <td>7.0</td>\n",
       "      <td>Yes</td>\n",
       "      <td>Yes</td>\n",
       "      <td>2</td>\n",
       "      <td>Yes</td>\n",
       "    </tr>\n",
       "  </tbody>\n",
       "</table>\n",
       "</div>"
      ],
      "text/plain": [
       "  enough_sleep  sleeping_hours phone_reach phone_time  tiredness_rating  \\\n",
       "0          Yes             8.0         Yes        Yes                 3   \n",
       "1           No             6.0         Yes        Yes                 3   \n",
       "2          Yes             6.0         Yes        Yes                 2   \n",
       "3           No             7.0         Yes        Yes                 4   \n",
       "4           No             7.0         Yes        Yes                 2   \n",
       "\n",
       "  had_breakfast  \n",
       "0           Yes  \n",
       "1            No  \n",
       "2           Yes  \n",
       "3            No  \n",
       "4           Yes  "
      ]
     },
     "metadata": {},
     "output_type": "display_data"
    },
    {
     "data": {
      "text/html": [
       "<div>\n",
       "<style scoped>\n",
       "    .dataframe tbody tr th:only-of-type {\n",
       "        vertical-align: middle;\n",
       "    }\n",
       "\n",
       "    .dataframe tbody tr th {\n",
       "        vertical-align: top;\n",
       "    }\n",
       "\n",
       "    .dataframe thead th {\n",
       "        text-align: right;\n",
       "    }\n",
       "</style>\n",
       "<table border=\"1\" class=\"dataframe\">\n",
       "  <thead>\n",
       "    <tr style=\"text-align: right;\">\n",
       "      <th></th>\n",
       "      <th>snoring_rate</th>\n",
       "      <th>respiration_rate</th>\n",
       "      <th>body_temperature</th>\n",
       "      <th>limb_movement</th>\n",
       "      <th>body_oxygen</th>\n",
       "      <th>eye_movement</th>\n",
       "      <th>sleeping_hours</th>\n",
       "      <th>heart_rate</th>\n",
       "      <th>stress_level</th>\n",
       "    </tr>\n",
       "  </thead>\n",
       "  <tbody>\n",
       "    <tr>\n",
       "      <th>0</th>\n",
       "      <td>93.80</td>\n",
       "      <td>25.680</td>\n",
       "      <td>91.840</td>\n",
       "      <td>16.600</td>\n",
       "      <td>89.840</td>\n",
       "      <td>99.60</td>\n",
       "      <td>1.840</td>\n",
       "      <td>74.20</td>\n",
       "      <td>3</td>\n",
       "    </tr>\n",
       "    <tr>\n",
       "      <th>1</th>\n",
       "      <td>91.64</td>\n",
       "      <td>25.104</td>\n",
       "      <td>91.552</td>\n",
       "      <td>15.880</td>\n",
       "      <td>89.552</td>\n",
       "      <td>98.88</td>\n",
       "      <td>1.552</td>\n",
       "      <td>72.76</td>\n",
       "      <td>3</td>\n",
       "    </tr>\n",
       "    <tr>\n",
       "      <th>2</th>\n",
       "      <td>60.00</td>\n",
       "      <td>20.000</td>\n",
       "      <td>96.000</td>\n",
       "      <td>10.000</td>\n",
       "      <td>95.000</td>\n",
       "      <td>85.00</td>\n",
       "      <td>7.000</td>\n",
       "      <td>60.00</td>\n",
       "      <td>1</td>\n",
       "    </tr>\n",
       "    <tr>\n",
       "      <th>3</th>\n",
       "      <td>85.76</td>\n",
       "      <td>23.536</td>\n",
       "      <td>90.768</td>\n",
       "      <td>13.920</td>\n",
       "      <td>88.768</td>\n",
       "      <td>96.92</td>\n",
       "      <td>0.768</td>\n",
       "      <td>68.84</td>\n",
       "      <td>3</td>\n",
       "    </tr>\n",
       "    <tr>\n",
       "      <th>4</th>\n",
       "      <td>48.12</td>\n",
       "      <td>17.248</td>\n",
       "      <td>97.872</td>\n",
       "      <td>6.496</td>\n",
       "      <td>96.248</td>\n",
       "      <td>72.48</td>\n",
       "      <td>8.248</td>\n",
       "      <td>53.12</td>\n",
       "      <td>0</td>\n",
       "    </tr>\n",
       "  </tbody>\n",
       "</table>\n",
       "</div>"
      ],
      "text/plain": [
       "   snoring_rate  respiration_rate  body_temperature  limb_movement  \\\n",
       "0         93.80            25.680            91.840         16.600   \n",
       "1         91.64            25.104            91.552         15.880   \n",
       "2         60.00            20.000            96.000         10.000   \n",
       "3         85.76            23.536            90.768         13.920   \n",
       "4         48.12            17.248            97.872          6.496   \n",
       "\n",
       "   body_oxygen  eye_movement  sleeping_hours  heart_rate  stress_level  \n",
       "0       89.840         99.60           1.840       74.20             3  \n",
       "1       89.552         98.88           1.552       72.76             3  \n",
       "2       95.000         85.00           7.000       60.00             1  \n",
       "3       88.768         96.92           0.768       68.84             3  \n",
       "4       96.248         72.48           8.248       53.12             0  "
      ]
     },
     "metadata": {},
     "output_type": "display_data"
    }
   ],
   "source": [
    "display(sleep_study_df.head())\n",
    "display(stress_in_sleep_df.head())"
   ]
  },
  {
   "cell_type": "markdown",
   "metadata": {},
   "source": [
    "### Amount of Data for Datasets\n",
    "Display number rows and columns for each dataframe."
   ]
  },
  {
   "cell_type": "code",
   "execution_count": 79,
   "metadata": {},
   "outputs": [
    {
     "name": "stdout",
     "output_type": "stream",
     "text": [
      "Sleep Study Rows and Columns: (104, 6)\n",
      "Stress in Sleep Rows and Columns: (630, 9)\n"
     ]
    }
   ],
   "source": [
    "print(f'Sleep Study Rows and Columns: {sleep_study_df.shape}')\n",
    "print(f'Stress in Sleep Rows and Columns: {stress_in_sleep_df.shape}')"
   ]
  },
  {
   "cell_type": "markdown",
   "metadata": {},
   "source": [
    "### Columns with Shared Qualities\n",
    "Display unique values for sleeping hours from both datasets."
   ]
  },
  {
   "cell_type": "code",
   "execution_count": 80,
   "metadata": {},
   "outputs": [
    {
     "data": {
      "text/plain": [
       "array([ 8.,  6.,  7.,  4., 10.,  9.,  2.,  5., nan])"
      ]
     },
     "metadata": {},
     "output_type": "display_data"
    },
    {
     "data": {
      "text/plain": [
       "array([1.84 , 1.552, 7.   , 0.768, 8.248, 6.376, 7.8  , 9.   , 7.112,\n",
       "       6.104, 4.016, 6.856, 8.44 , 0.   , 1.04 , 5.464, 5.528, 0.832,\n",
       "       0.208, 2.552, 4.64 , 4.592, 3.464, 1.072, 1.328, 5.736, 4.784,\n",
       "       5.192, 1.968, 2.312, 8.648, 8.072, 2.   , 0.896, 8.392, 7.448,\n",
       "       2.144, 2.84 , 4.304, 8.712, 3.992, 2.432, 6.344, 8.84 , 5.72 ,\n",
       "       1.76 , 7.736, 6.216, 4.352, 1.712, 1.008, 6.696, 0.144, 7.64 ,\n",
       "       2.24 , 5.048, 8.968, 2.072, 8.312, 5.096, 6.536, 7.064, 8.472,\n",
       "       6.296, 1.344, 5.128, 5.112, 5.784, 3.248, 5.976, 5.48 , 5.32 ,\n",
       "       1.664, 2.768, 0.88 , 3.2  , 7.08 , 2.48 , 4.28 , 4.544, 7.016,\n",
       "       5.704, 2.216, 2.336, 4.88 , 5.88 , 3.344, 7.976, 1.408, 3.032,\n",
       "       3.296, 4.4  , 8.808, 5.992, 6.056, 1.376, 6.616, 0.48 , 2.864,\n",
       "       6.44 , 3.32 , 8.12 , 1.696, 6.936, 8.424, 8.344, 4.712, 8.088,\n",
       "       3.704, 0.192, 4.76 , 8.728, 3.272, 7.768, 8.504, 7.032, 7.048,\n",
       "       5.064, 1.136, 8.152, 8.6  , 2.696, 1.776, 4.184, 3.584, 6.152,\n",
       "       2.912, 4.52 , 7.72 , 7.912, 6.92 , 4.208, 3.68 , 6.632, 5.688,\n",
       "       5.512, 5.864, 1.6  , 6.776, 6.04 , 5.672, 4.856, 6.648, 7.48 ,\n",
       "       3.056, 7.816, 4.064, 6.408, 3.872, 5.56 , 6.456, 1.12 , 7.672,\n",
       "       7.384, 8.456, 3.104, 1.168, 7.544, 7.176, 8.536, 5.   , 7.128,\n",
       "       3.152, 6.664, 5.416, 6.312, 0.304, 7.192, 8.488, 1.744, 0.992,\n",
       "       7.96 , 4.664, 2.792, 2.264, 6.872, 7.88 , 6.136, 0.016, 2.168,\n",
       "       7.208, 1.52 , 6.488, 1.392, 7.704, 7.336, 1.152, 0.416, 6.328,\n",
       "       1.792, 0.592, 0.128, 8.632, 0.928, 4.904, 0.16 , 0.528, 5.272,\n",
       "       2.024, 0.368, 5.224, 1.728, 4.232, 0.464, 3.416, 0.256, 3.968,\n",
       "       8.552, 7.848, 6.232, 4.616, 0.64 , 4.16 , 4.688, 6.712, 7.656,\n",
       "       5.384, 3.512, 1.264, 1.248, 1.904, 0.448, 7.144, 1.984, 7.896,\n",
       "       5.912, 1.312, 1.2  , 1.104, 2.648, 8.296, 7.352, 8.872, 3.368,\n",
       "       6.904, 4.472, 5.624, 0.848, 8.744, 7.4  , 1.568, 2.888, 2.384,\n",
       "       3.848, 1.456, 8.52 , 0.672, 3.656, 6.184, 7.224, 6.36 , 8.92 ,\n",
       "       0.96 , 0.336, 8.2  , 1.488, 3.728, 1.28 , 6.52 , 3.608, 8.76 ,\n",
       "       4.112, 8.68 , 5.208, 0.624, 7.496, 5.144, 8.008, 7.832, 1.216,\n",
       "       7.24 , 7.272, 2.624, 1.616, 3.896, 8.824, 6.888, 1.648, 0.096,\n",
       "       0.688, 4.376, 2.6  , 0.176, 4.328, 5.4  , 2.96 , 3.776, 8.696,\n",
       "       0.864, 7.416, 6.792, 1.632, 1.856, 3.176, 7.512, 1.36 , 5.08 ,\n",
       "       3.632, 8.184, 6.248, 6.024, 2.288, 8.232, 0.576, 7.928, 5.608,\n",
       "       6.424, 0.656, 6.008, 6.584, 5.16 , 5.368, 8.888, 0.512, 0.912,\n",
       "       0.72 , 0.048, 0.752, 4.808, 2.408, 0.56 , 6.28 , 0.432, 1.424,\n",
       "       4.424, 8.28 , 5.448, 5.032, 7.288, 6.824, 0.24 , 8.952, 5.432,\n",
       "       8.136, 8.408, 6.2  , 6.744, 8.216, 7.944, 2.984, 8.936, 3.824,\n",
       "       0.544, 3.92 , 4.568, 1.088, 5.576, 5.816, 6.472, 5.24 , 2.504,\n",
       "       0.32 , 2.936, 8.904, 6.968, 1.056, 5.496, 0.976, 6.088, 5.592,\n",
       "       5.848, 5.752, 4.832, 6.504, 2.12 , 3.488, 5.304, 1.504, 0.816,\n",
       "       4.448, 6.264, 7.16 , 8.568, 1.888, 5.352, 7.368, 1.472, 5.96 ,\n",
       "       8.984, 5.256, 8.104, 7.784, 1.68 , 3.224, 2.192, 5.544, 0.288,\n",
       "       2.456, 2.576, 2.096, 6.84 , 1.296, 7.624, 5.016, 8.664, 7.752,\n",
       "       0.496, 2.528, 0.064, 7.32 , 7.864, 2.048, 5.176, 4.736, 1.232,\n",
       "       8.168, 5.336, 7.592, 0.272, 8.856, 7.688, 3.128, 5.656, 7.304,\n",
       "       7.56 , 7.576, 5.768, 4.928, 0.08 , 4.952, 8.04 , 0.224, 6.984,\n",
       "       8.584, 8.264, 6.68 , 3.536, 0.704, 7.528, 5.896, 1.024, 0.032,\n",
       "       2.672, 2.744, 0.352, 7.608, 1.584, 2.72 , 8.616, 4.256, 0.944,\n",
       "       4.496, 0.784, 5.288, 6.6  , 8.792, 3.56 , 3.944, 1.92 , 5.944,\n",
       "       0.112, 1.952, 1.536, 0.736, 5.832, 6.072, 7.464, 0.8  , 4.976,\n",
       "       1.44 , 6.12 , 3.8  , 0.608, 6.952, 0.4  , 4.136, 7.096, 8.776,\n",
       "       3.008, 5.8  , 1.936, 8.024, 8.056, 7.992, 3.392, 7.256, 1.808,\n",
       "       6.552, 6.392, 6.168, 8.328, 1.872, 3.08 , 6.568, 5.928, 1.824,\n",
       "       1.184, 4.04 , 2.36 , 0.384, 6.808, 3.752, 8.36 , 7.432, 5.64 ,\n",
       "       2.816, 6.76 , 3.44 , 8.376, 6.728, 4.088])"
      ]
     },
     "metadata": {},
     "output_type": "display_data"
    }
   ],
   "source": [
    "display(sleep_study_df.sleeping_hours.unique())\n",
    "display(stress_in_sleep_df.sleeping_hours.unique())"
   ]
  },
  {
   "cell_type": "markdown",
   "metadata": {},
   "source": [
    "Since there are a lot more unique values for the second dataset, I won't merge the two datasets. Instead I will use sleep hour averages from the first dataset to make correlation with the second dataset's data (will make more sense later)."
   ]
  },
  {
   "cell_type": "markdown",
   "metadata": {},
   "source": [
    "### Check column types."
   ]
  },
  {
   "cell_type": "code",
   "execution_count": 81,
   "metadata": {},
   "outputs": [
    {
     "data": {
      "text/plain": [
       "enough_sleep         object\n",
       "sleeping_hours      float64\n",
       "phone_reach          object\n",
       "phone_time           object\n",
       "tiredness_rating      int64\n",
       "had_breakfast        object\n",
       "dtype: object"
      ]
     },
     "execution_count": 81,
     "metadata": {},
     "output_type": "execute_result"
    }
   ],
   "source": [
    "sleep_study_df.dtypes"
   ]
  },
  {
   "cell_type": "code",
   "execution_count": 82,
   "metadata": {},
   "outputs": [
    {
     "data": {
      "text/plain": [
       "snoring_rate        float64\n",
       "respiration_rate    float64\n",
       "body_temperature    float64\n",
       "limb_movement       float64\n",
       "body_oxygen         float64\n",
       "eye_movement        float64\n",
       "sleeping_hours      float64\n",
       "heart_rate          float64\n",
       "stress_level          int64\n",
       "dtype: object"
      ]
     },
     "execution_count": 82,
     "metadata": {},
     "output_type": "execute_result"
    }
   ],
   "source": [
    "stress_in_sleep_df.dtypes"
   ]
  },
  {
   "cell_type": "markdown",
   "metadata": {},
   "source": [
    "# Analysis of Datasets"
   ]
  },
  {
   "cell_type": "markdown",
   "metadata": {},
   "source": [
    "### Informational Data"
   ]
  },
  {
   "cell_type": "markdown",
   "metadata": {},
   "source": [
    "1. Using the \"Stress in Sleep\" dataset, calculate the mean and median hours of sleep for each stress level."
   ]
  },
  {
   "cell_type": "code",
   "execution_count": 83,
   "metadata": {},
   "outputs": [
    {
     "data": {
      "text/html": [
       "<div>\n",
       "<style scoped>\n",
       "    .dataframe tbody tr th:only-of-type {\n",
       "        vertical-align: middle;\n",
       "    }\n",
       "\n",
       "    .dataframe tbody tr th {\n",
       "        vertical-align: top;\n",
       "    }\n",
       "\n",
       "    .dataframe thead tr th {\n",
       "        text-align: left;\n",
       "    }\n",
       "\n",
       "    .dataframe thead tr:last-of-type th {\n",
       "        text-align: right;\n",
       "    }\n",
       "</style>\n",
       "<table border=\"1\" class=\"dataframe\">\n",
       "  <thead>\n",
       "    <tr>\n",
       "      <th></th>\n",
       "      <th colspan=\"2\" halign=\"left\">sleeping_hours</th>\n",
       "    </tr>\n",
       "    <tr>\n",
       "      <th></th>\n",
       "      <th>mean</th>\n",
       "      <th>median</th>\n",
       "    </tr>\n",
       "    <tr>\n",
       "      <th>stress_level</th>\n",
       "      <th></th>\n",
       "      <th></th>\n",
       "    </tr>\n",
       "  </thead>\n",
       "  <tbody>\n",
       "    <tr>\n",
       "      <th>0</th>\n",
       "      <td>8.0</td>\n",
       "      <td>8.0</td>\n",
       "    </tr>\n",
       "    <tr>\n",
       "      <th>1</th>\n",
       "      <td>6.0</td>\n",
       "      <td>6.0</td>\n",
       "    </tr>\n",
       "    <tr>\n",
       "      <th>2</th>\n",
       "      <td>3.5</td>\n",
       "      <td>3.5</td>\n",
       "    </tr>\n",
       "    <tr>\n",
       "      <th>3</th>\n",
       "      <td>1.0</td>\n",
       "      <td>1.0</td>\n",
       "    </tr>\n",
       "    <tr>\n",
       "      <th>4</th>\n",
       "      <td>0.0</td>\n",
       "      <td>0.0</td>\n",
       "    </tr>\n",
       "  </tbody>\n",
       "</table>\n",
       "</div>"
      ],
      "text/plain": [
       "             sleeping_hours       \n",
       "                       mean median\n",
       "stress_level                      \n",
       "0                       8.0    8.0\n",
       "1                       6.0    6.0\n",
       "2                       3.5    3.5\n",
       "3                       1.0    1.0\n",
       "4                       0.0    0.0"
      ]
     },
     "execution_count": 83,
     "metadata": {},
     "output_type": "execute_result"
    }
   ],
   "source": [
    "stress_in_sleep_df.groupby('stress_level').agg({\n",
    "    'sleeping_hours': ['mean', 'median']})"
   ]
  },
  {
   "cell_type": "markdown",
   "metadata": {},
   "source": [
    "Observation: It's interesting how the amount of sleeping hours for all for data with stress level 4 is 0. What could this mean? Is this evidence of auto-generated data or is there something specific?"
   ]
  },
  {
   "cell_type": "markdown",
   "metadata": {},
   "source": [
    "2. Using the \"Sleep Study\" dataset, find the top 10 sleeping hours of people with tiredness ratings 3 and higher. Do the same for people with tiredness ratings lower than 3."
   ]
  },
  {
   "cell_type": "code",
   "execution_count": 84,
   "metadata": {},
   "outputs": [
    {
     "name": "stdout",
     "output_type": "stream",
     "text": [
      "Tiredness Rating 3 and Higher:\n"
     ]
    },
    {
     "data": {
      "text/html": [
       "<div>\n",
       "<style scoped>\n",
       "    .dataframe tbody tr th:only-of-type {\n",
       "        vertical-align: middle;\n",
       "    }\n",
       "\n",
       "    .dataframe tbody tr th {\n",
       "        vertical-align: top;\n",
       "    }\n",
       "\n",
       "    .dataframe thead th {\n",
       "        text-align: right;\n",
       "    }\n",
       "</style>\n",
       "<table border=\"1\" class=\"dataframe\">\n",
       "  <thead>\n",
       "    <tr style=\"text-align: right;\">\n",
       "      <th></th>\n",
       "      <th>sleeping_hours</th>\n",
       "      <th>tiredness_rating</th>\n",
       "    </tr>\n",
       "  </thead>\n",
       "  <tbody>\n",
       "    <tr>\n",
       "      <th>10</th>\n",
       "      <td>10.0</td>\n",
       "      <td>4</td>\n",
       "    </tr>\n",
       "    <tr>\n",
       "      <th>18</th>\n",
       "      <td>9.0</td>\n",
       "      <td>3</td>\n",
       "    </tr>\n",
       "    <tr>\n",
       "      <th>57</th>\n",
       "      <td>9.0</td>\n",
       "      <td>5</td>\n",
       "    </tr>\n",
       "    <tr>\n",
       "      <th>58</th>\n",
       "      <td>9.0</td>\n",
       "      <td>4</td>\n",
       "    </tr>\n",
       "    <tr>\n",
       "      <th>86</th>\n",
       "      <td>9.0</td>\n",
       "      <td>5</td>\n",
       "    </tr>\n",
       "    <tr>\n",
       "      <th>0</th>\n",
       "      <td>8.0</td>\n",
       "      <td>3</td>\n",
       "    </tr>\n",
       "    <tr>\n",
       "      <th>15</th>\n",
       "      <td>8.0</td>\n",
       "      <td>3</td>\n",
       "    </tr>\n",
       "    <tr>\n",
       "      <th>17</th>\n",
       "      <td>8.0</td>\n",
       "      <td>3</td>\n",
       "    </tr>\n",
       "    <tr>\n",
       "      <th>19</th>\n",
       "      <td>8.0</td>\n",
       "      <td>3</td>\n",
       "    </tr>\n",
       "    <tr>\n",
       "      <th>31</th>\n",
       "      <td>8.0</td>\n",
       "      <td>3</td>\n",
       "    </tr>\n",
       "  </tbody>\n",
       "</table>\n",
       "</div>"
      ],
      "text/plain": [
       "    sleeping_hours  tiredness_rating\n",
       "10            10.0                 4\n",
       "18             9.0                 3\n",
       "57             9.0                 5\n",
       "58             9.0                 4\n",
       "86             9.0                 5\n",
       "0              8.0                 3\n",
       "15             8.0                 3\n",
       "17             8.0                 3\n",
       "19             8.0                 3\n",
       "31             8.0                 3"
      ]
     },
     "metadata": {},
     "output_type": "display_data"
    },
    {
     "name": "stdout",
     "output_type": "stream",
     "text": [
      "Tiredness Rating Lower than 3:\n"
     ]
    },
    {
     "data": {
      "text/html": [
       "<div>\n",
       "<style scoped>\n",
       "    .dataframe tbody tr th:only-of-type {\n",
       "        vertical-align: middle;\n",
       "    }\n",
       "\n",
       "    .dataframe tbody tr th {\n",
       "        vertical-align: top;\n",
       "    }\n",
       "\n",
       "    .dataframe thead th {\n",
       "        text-align: right;\n",
       "    }\n",
       "</style>\n",
       "<table border=\"1\" class=\"dataframe\">\n",
       "  <thead>\n",
       "    <tr style=\"text-align: right;\">\n",
       "      <th></th>\n",
       "      <th>sleeping_hours</th>\n",
       "      <th>tiredness_rating</th>\n",
       "    </tr>\n",
       "  </thead>\n",
       "  <tbody>\n",
       "    <tr>\n",
       "      <th>29</th>\n",
       "      <td>9.0</td>\n",
       "      <td>2</td>\n",
       "    </tr>\n",
       "    <tr>\n",
       "      <th>37</th>\n",
       "      <td>9.0</td>\n",
       "      <td>2</td>\n",
       "    </tr>\n",
       "    <tr>\n",
       "      <th>46</th>\n",
       "      <td>9.0</td>\n",
       "      <td>1</td>\n",
       "    </tr>\n",
       "    <tr>\n",
       "      <th>93</th>\n",
       "      <td>9.0</td>\n",
       "      <td>2</td>\n",
       "    </tr>\n",
       "    <tr>\n",
       "      <th>13</th>\n",
       "      <td>8.0</td>\n",
       "      <td>2</td>\n",
       "    </tr>\n",
       "    <tr>\n",
       "      <th>30</th>\n",
       "      <td>8.0</td>\n",
       "      <td>2</td>\n",
       "    </tr>\n",
       "    <tr>\n",
       "      <th>40</th>\n",
       "      <td>8.0</td>\n",
       "      <td>1</td>\n",
       "    </tr>\n",
       "    <tr>\n",
       "      <th>83</th>\n",
       "      <td>8.0</td>\n",
       "      <td>2</td>\n",
       "    </tr>\n",
       "    <tr>\n",
       "      <th>84</th>\n",
       "      <td>8.0</td>\n",
       "      <td>1</td>\n",
       "    </tr>\n",
       "    <tr>\n",
       "      <th>4</th>\n",
       "      <td>7.0</td>\n",
       "      <td>2</td>\n",
       "    </tr>\n",
       "  </tbody>\n",
       "</table>\n",
       "</div>"
      ],
      "text/plain": [
       "    sleeping_hours  tiredness_rating\n",
       "29             9.0                 2\n",
       "37             9.0                 2\n",
       "46             9.0                 1\n",
       "93             9.0                 2\n",
       "13             8.0                 2\n",
       "30             8.0                 2\n",
       "40             8.0                 1\n",
       "83             8.0                 2\n",
       "84             8.0                 1\n",
       "4              7.0                 2"
      ]
     },
     "metadata": {},
     "output_type": "display_data"
    }
   ],
   "source": [
    "lower_tiredness_mask = sleep_study_df['tiredness_rating'] >= 3\n",
    "higher_tiredness_mask = sleep_study_df['tiredness_rating'] < 3\n",
    "\n",
    "sorted_low_sleep_study_df = sleep_study_df[lower_tiredness_mask].nlargest(10, 'sleeping_hours')\n",
    "print('Tiredness Rating 3 and Higher:')\n",
    "display(sorted_low_sleep_study_df.loc[:, [\"sleeping_hours\", \"tiredness_rating\"]])\n",
    "\n",
    "print('Tiredness Rating Lower than 3:')\n",
    "sorted_high_sleep_study_df = sleep_study_df[higher_tiredness_mask].nlargest(10, 'sleeping_hours')\n",
    "display(sorted_high_sleep_study_df.loc[:, [\"sleeping_hours\", \"tiredness_rating\"]])"
   ]
  },
  {
   "cell_type": "markdown",
   "metadata": {},
   "source": [
    "Observation: The top 10 for each set of tiredness levels are more uncorrelated than expected, so I'm also going to find the top least sleeping hours for each set."
   ]
  },
  {
   "cell_type": "markdown",
   "metadata": {},
   "source": [
    "3. Using the \"Sleep Study\" dataset, find the least 10 sleeping hours of people with tiredness ratings 3 and higher. Do the same for people with tiredness ratings lower than 3."
   ]
  },
  {
   "cell_type": "code",
   "execution_count": 85,
   "metadata": {},
   "outputs": [
    {
     "name": "stdout",
     "output_type": "stream",
     "text": [
      "Tiredness Levels Lower than 3:\n"
     ]
    },
    {
     "data": {
      "text/html": [
       "<div>\n",
       "<style scoped>\n",
       "    .dataframe tbody tr th:only-of-type {\n",
       "        vertical-align: middle;\n",
       "    }\n",
       "\n",
       "    .dataframe tbody tr th {\n",
       "        vertical-align: top;\n",
       "    }\n",
       "\n",
       "    .dataframe thead th {\n",
       "        text-align: right;\n",
       "    }\n",
       "</style>\n",
       "<table border=\"1\" class=\"dataframe\">\n",
       "  <thead>\n",
       "    <tr style=\"text-align: right;\">\n",
       "      <th></th>\n",
       "      <th>sleeping_hours</th>\n",
       "    </tr>\n",
       "  </thead>\n",
       "  <tbody>\n",
       "    <tr>\n",
       "      <th>20</th>\n",
       "      <td>2.0</td>\n",
       "    </tr>\n",
       "    <tr>\n",
       "      <th>62</th>\n",
       "      <td>2.0</td>\n",
       "    </tr>\n",
       "    <tr>\n",
       "      <th>44</th>\n",
       "      <td>4.0</td>\n",
       "    </tr>\n",
       "    <tr>\n",
       "      <th>22</th>\n",
       "      <td>5.0</td>\n",
       "    </tr>\n",
       "    <tr>\n",
       "      <th>38</th>\n",
       "      <td>5.0</td>\n",
       "    </tr>\n",
       "    <tr>\n",
       "      <th>42</th>\n",
       "      <td>5.0</td>\n",
       "    </tr>\n",
       "    <tr>\n",
       "      <th>47</th>\n",
       "      <td>5.0</td>\n",
       "    </tr>\n",
       "    <tr>\n",
       "      <th>50</th>\n",
       "      <td>5.0</td>\n",
       "    </tr>\n",
       "    <tr>\n",
       "      <th>71</th>\n",
       "      <td>5.0</td>\n",
       "    </tr>\n",
       "    <tr>\n",
       "      <th>72</th>\n",
       "      <td>5.0</td>\n",
       "    </tr>\n",
       "  </tbody>\n",
       "</table>\n",
       "</div>"
      ],
      "text/plain": [
       "    sleeping_hours\n",
       "20             2.0\n",
       "62             2.0\n",
       "44             4.0\n",
       "22             5.0\n",
       "38             5.0\n",
       "42             5.0\n",
       "47             5.0\n",
       "50             5.0\n",
       "71             5.0\n",
       "72             5.0"
      ]
     },
     "metadata": {},
     "output_type": "display_data"
    },
    {
     "name": "stdout",
     "output_type": "stream",
     "text": [
      "Tiredness Levels 3 and Higher:\n"
     ]
    },
    {
     "data": {
      "text/html": [
       "<div>\n",
       "<style scoped>\n",
       "    .dataframe tbody tr th:only-of-type {\n",
       "        vertical-align: middle;\n",
       "    }\n",
       "\n",
       "    .dataframe tbody tr th {\n",
       "        vertical-align: top;\n",
       "    }\n",
       "\n",
       "    .dataframe thead th {\n",
       "        text-align: right;\n",
       "    }\n",
       "</style>\n",
       "<table border=\"1\" class=\"dataframe\">\n",
       "  <thead>\n",
       "    <tr style=\"text-align: right;\">\n",
       "      <th></th>\n",
       "      <th>sleeping_hours</th>\n",
       "      <th>tiredness_rating</th>\n",
       "    </tr>\n",
       "  </thead>\n",
       "  <tbody>\n",
       "    <tr>\n",
       "      <th>8</th>\n",
       "      <td>4.0</td>\n",
       "      <td>2</td>\n",
       "    </tr>\n",
       "    <tr>\n",
       "      <th>21</th>\n",
       "      <td>4.0</td>\n",
       "      <td>2</td>\n",
       "    </tr>\n",
       "    <tr>\n",
       "      <th>49</th>\n",
       "      <td>4.0</td>\n",
       "      <td>2</td>\n",
       "    </tr>\n",
       "    <tr>\n",
       "      <th>24</th>\n",
       "      <td>5.0</td>\n",
       "      <td>2</td>\n",
       "    </tr>\n",
       "    <tr>\n",
       "      <th>53</th>\n",
       "      <td>5.0</td>\n",
       "      <td>2</td>\n",
       "    </tr>\n",
       "    <tr>\n",
       "      <th>55</th>\n",
       "      <td>5.0</td>\n",
       "      <td>2</td>\n",
       "    </tr>\n",
       "    <tr>\n",
       "      <th>2</th>\n",
       "      <td>6.0</td>\n",
       "      <td>2</td>\n",
       "    </tr>\n",
       "    <tr>\n",
       "      <th>27</th>\n",
       "      <td>6.0</td>\n",
       "      <td>2</td>\n",
       "    </tr>\n",
       "    <tr>\n",
       "      <th>88</th>\n",
       "      <td>6.0</td>\n",
       "      <td>2</td>\n",
       "    </tr>\n",
       "    <tr>\n",
       "      <th>4</th>\n",
       "      <td>7.0</td>\n",
       "      <td>2</td>\n",
       "    </tr>\n",
       "  </tbody>\n",
       "</table>\n",
       "</div>"
      ],
      "text/plain": [
       "    sleeping_hours  tiredness_rating\n",
       "8              4.0                 2\n",
       "21             4.0                 2\n",
       "49             4.0                 2\n",
       "24             5.0                 2\n",
       "53             5.0                 2\n",
       "55             5.0                 2\n",
       "2              6.0                 2\n",
       "27             6.0                 2\n",
       "88             6.0                 2\n",
       "4              7.0                 2"
      ]
     },
     "metadata": {},
     "output_type": "display_data"
    }
   ],
   "source": [
    "print('Tiredness Levels Lower than 3:')\n",
    "sorted_low_sleep_study_df = sleep_study_df[lower_tiredness_mask].nsmallest(10, 'sleeping_hours')\n",
    "display(sorted_low_sleep_study_df.loc[:, [\"sleeping_hours\"]])\n",
    "\n",
    "print('Tiredness Levels 3 and Higher:')\n",
    "sorted_high_sleep_study_df = sleep_study_df[higher_tiredness_mask].nsmallest(10, 'sleeping_hours')\n",
    "display(sorted_high_sleep_study_df.loc[:, [\"sleeping_hours\", \"tiredness_rating\"]])"
   ]
  },
  {
   "cell_type": "markdown",
   "metadata": {},
   "source": [
    "4. __Is there numerical evidence that having breakfast influences a person's tiredness rating?__ Using the \"Sleep Study\" dataset, find the average tiredness rating for people who do eat breakfast and for people who don't eat breakfast."
   ]
  },
  {
   "cell_type": "code",
   "execution_count": 86,
   "metadata": {},
   "outputs": [
    {
     "data": {
      "text/plain": [
       "'Ate Breakfast: 2.873015873015873'"
      ]
     },
     "metadata": {},
     "output_type": "display_data"
    },
    {
     "data": {
      "text/plain": [
       "'No Breakfast: 3.3902439024390243'"
      ]
     },
     "metadata": {},
     "output_type": "display_data"
    }
   ],
   "source": [
    "yes_breakfast = sleep_study_df[\"had_breakfast\"] == \"Yes\"\n",
    "no_breakfast = sleep_study_df[\"had_breakfast\"] == \"No\"\n",
    "\n",
    "display(f\"Ate Breakfast: {sleep_study_df[yes_breakfast].tiredness_rating.mean()}\")\n",
    "display(f\"No Breakfast: {sleep_study_df[no_breakfast].tiredness_rating.mean()}\")"
   ]
  },
  {
   "cell_type": "markdown",
   "metadata": {},
   "source": [
    "5. Using the \"Stress in Sleep\" dataset, find the top ten amounts of body oxygen for people who get 4 or more hours of sleep. Do the same for people who get less than 4 hours of sleep."
   ]
  },
  {
   "cell_type": "code",
   "execution_count": 87,
   "metadata": {},
   "outputs": [
    {
     "name": "stdout",
     "output_type": "stream",
     "text": [
      "Body Oxygen Levels for Sleeping Hours Lower than 4:\n"
     ]
    },
    {
     "data": {
      "text/html": [
       "<div>\n",
       "<style scoped>\n",
       "    .dataframe tbody tr th:only-of-type {\n",
       "        vertical-align: middle;\n",
       "    }\n",
       "\n",
       "    .dataframe tbody tr th {\n",
       "        vertical-align: top;\n",
       "    }\n",
       "\n",
       "    .dataframe thead th {\n",
       "        text-align: right;\n",
       "    }\n",
       "</style>\n",
       "<table border=\"1\" class=\"dataframe\">\n",
       "  <thead>\n",
       "    <tr style=\"text-align: right;\">\n",
       "      <th></th>\n",
       "      <th>sleeping_hours</th>\n",
       "      <th>body_oxygen</th>\n",
       "    </tr>\n",
       "  </thead>\n",
       "  <tbody>\n",
       "    <tr>\n",
       "      <th>44</th>\n",
       "      <td>3.992</td>\n",
       "      <td>91.328</td>\n",
       "    </tr>\n",
       "    <tr>\n",
       "      <th>262</th>\n",
       "      <td>3.968</td>\n",
       "      <td>91.312</td>\n",
       "    </tr>\n",
       "    <tr>\n",
       "      <th>563</th>\n",
       "      <td>3.944</td>\n",
       "      <td>91.296</td>\n",
       "    </tr>\n",
       "    <tr>\n",
       "      <th>435</th>\n",
       "      <td>3.920</td>\n",
       "      <td>91.280</td>\n",
       "    </tr>\n",
       "    <tr>\n",
       "      <th>344</th>\n",
       "      <td>3.896</td>\n",
       "      <td>91.264</td>\n",
       "    </tr>\n",
       "    <tr>\n",
       "      <th>189</th>\n",
       "      <td>3.872</td>\n",
       "      <td>91.248</td>\n",
       "    </tr>\n",
       "    <tr>\n",
       "      <th>307</th>\n",
       "      <td>3.848</td>\n",
       "      <td>91.232</td>\n",
       "    </tr>\n",
       "    <tr>\n",
       "      <th>433</th>\n",
       "      <td>3.824</td>\n",
       "      <td>91.216</td>\n",
       "    </tr>\n",
       "    <tr>\n",
       "      <th>581</th>\n",
       "      <td>3.800</td>\n",
       "      <td>91.200</td>\n",
       "    </tr>\n",
       "    <tr>\n",
       "      <th>363</th>\n",
       "      <td>3.776</td>\n",
       "      <td>91.184</td>\n",
       "    </tr>\n",
       "  </tbody>\n",
       "</table>\n",
       "</div>"
      ],
      "text/plain": [
       "     sleeping_hours  body_oxygen\n",
       "44            3.992       91.328\n",
       "262           3.968       91.312\n",
       "563           3.944       91.296\n",
       "435           3.920       91.280\n",
       "344           3.896       91.264\n",
       "189           3.872       91.248\n",
       "307           3.848       91.232\n",
       "433           3.824       91.216\n",
       "581           3.800       91.200\n",
       "363           3.776       91.184"
      ]
     },
     "metadata": {},
     "output_type": "display_data"
    },
    {
     "name": "stdout",
     "output_type": "stream",
     "text": [
      "Body Oxygen Levels for Sleeping Hours 4 and Higher:\n"
     ]
    },
    {
     "data": {
      "text/html": [
       "<div>\n",
       "<style scoped>\n",
       "    .dataframe tbody tr th:only-of-type {\n",
       "        vertical-align: middle;\n",
       "    }\n",
       "\n",
       "    .dataframe tbody tr th {\n",
       "        vertical-align: top;\n",
       "    }\n",
       "\n",
       "    .dataframe thead th {\n",
       "        text-align: right;\n",
       "    }\n",
       "</style>\n",
       "<table border=\"1\" class=\"dataframe\">\n",
       "  <thead>\n",
       "    <tr style=\"text-align: right;\">\n",
       "      <th></th>\n",
       "      <th>sleeping_hours</th>\n",
       "      <th>body_oxygen</th>\n",
       "    </tr>\n",
       "  </thead>\n",
       "  <tbody>\n",
       "    <tr>\n",
       "      <th>7</th>\n",
       "      <td>9.000</td>\n",
       "      <td>97.000</td>\n",
       "    </tr>\n",
       "    <tr>\n",
       "      <th>477</th>\n",
       "      <td>8.984</td>\n",
       "      <td>96.984</td>\n",
       "    </tr>\n",
       "    <tr>\n",
       "      <th>66</th>\n",
       "      <td>8.968</td>\n",
       "      <td>96.968</td>\n",
       "    </tr>\n",
       "    <tr>\n",
       "      <th>419</th>\n",
       "      <td>8.952</td>\n",
       "      <td>96.952</td>\n",
       "    </tr>\n",
       "    <tr>\n",
       "      <th>432</th>\n",
       "      <td>8.936</td>\n",
       "      <td>96.936</td>\n",
       "    </tr>\n",
       "    <tr>\n",
       "      <th>315</th>\n",
       "      <td>8.920</td>\n",
       "      <td>96.920</td>\n",
       "    </tr>\n",
       "    <tr>\n",
       "      <th>449</th>\n",
       "      <td>8.904</td>\n",
       "      <td>96.904</td>\n",
       "    </tr>\n",
       "    <tr>\n",
       "      <th>396</th>\n",
       "      <td>8.888</td>\n",
       "      <td>96.888</td>\n",
       "    </tr>\n",
       "    <tr>\n",
       "      <th>295</th>\n",
       "      <td>8.872</td>\n",
       "      <td>96.872</td>\n",
       "    </tr>\n",
       "    <tr>\n",
       "      <th>516</th>\n",
       "      <td>8.856</td>\n",
       "      <td>96.856</td>\n",
       "    </tr>\n",
       "  </tbody>\n",
       "</table>\n",
       "</div>"
      ],
      "text/plain": [
       "     sleeping_hours  body_oxygen\n",
       "7             9.000       97.000\n",
       "477           8.984       96.984\n",
       "66            8.968       96.968\n",
       "419           8.952       96.952\n",
       "432           8.936       96.936\n",
       "315           8.920       96.920\n",
       "449           8.904       96.904\n",
       "396           8.888       96.888\n",
       "295           8.872       96.872\n",
       "516           8.856       96.856"
      ]
     },
     "metadata": {},
     "output_type": "display_data"
    }
   ],
   "source": [
    "high_sleep_hour = stress_in_sleep_df[\"sleeping_hours\"] >= 4\n",
    "low_sleep_hour = stress_in_sleep_df[\"sleeping_hours\"] < 4\n",
    "\n",
    "print('Body Oxygen Levels for Sleeping Hours Lower than 4:')\n",
    "sorted_low_stress_in_sleep_df = stress_in_sleep_df[low_sleep_hour].nlargest(10, \"body_oxygen\")\n",
    "display(sorted_low_stress_in_sleep_df.loc[:, [\"sleeping_hours\", \"body_oxygen\"]])\n",
    "\n",
    "print('Body Oxygen Levels for Sleeping Hours 4 and Higher:')\n",
    "sorted_high_stress_in_sleep_df = stress_in_sleep_df[high_sleep_hour].nlargest(10, \"body_oxygen\")\n",
    "display(sorted_high_stress_in_sleep_df.loc[:, [\"sleeping_hours\", \"body_oxygen\"]])"
   ]
  },
  {
   "cell_type": "markdown",
   "metadata": {},
   "source": [
    "6. __Is there a matching correlation between the stress level and a person's claim that they get enough sleep?__ First using the \"Sleep Study\" dataset, find the average number of hours of sleep for people who claim to get enough sleep. After that, use the \"Stress in Sleep\" dataset and find the top twenty stress levels within the -0.5 and +0.5 range of sleep hour average from the other dataset (ex. if you got an average of 6.3 hours as your result, your range will be 5.8 to 6.8 hours)."
   ]
  },
  {
   "cell_type": "code",
   "execution_count": 88,
   "metadata": {},
   "outputs": [
    {
     "name": "stdout",
     "output_type": "stream",
     "text": [
      "Result Mean: 7.4\n"
     ]
    }
   ],
   "source": [
    "enough_sleep = sleep_study_df[\"enough_sleep\"] == \"Yes\"\n",
    "\n",
    "result_mean = sleep_study_df[enough_sleep].sleeping_hours.mean()\n",
    "print(f'Result Mean: {result_mean}')"
   ]
  },
  {
   "cell_type": "code",
   "execution_count": 89,
   "metadata": {},
   "outputs": [
    {
     "data": {
      "text/html": [
       "<div>\n",
       "<style scoped>\n",
       "    .dataframe tbody tr th:only-of-type {\n",
       "        vertical-align: middle;\n",
       "    }\n",
       "\n",
       "    .dataframe tbody tr th {\n",
       "        vertical-align: top;\n",
       "    }\n",
       "\n",
       "    .dataframe thead th {\n",
       "        text-align: right;\n",
       "    }\n",
       "</style>\n",
       "<table border=\"1\" class=\"dataframe\">\n",
       "  <thead>\n",
       "    <tr style=\"text-align: right;\">\n",
       "      <th></th>\n",
       "      <th>sleeping_hours</th>\n",
       "      <th>stress_level</th>\n",
       "    </tr>\n",
       "  </thead>\n",
       "  <tbody>\n",
       "    <tr>\n",
       "      <th>2</th>\n",
       "      <td>7.000</td>\n",
       "      <td>1</td>\n",
       "    </tr>\n",
       "    <tr>\n",
       "      <th>134</th>\n",
       "      <td>6.936</td>\n",
       "      <td>1</td>\n",
       "    </tr>\n",
       "    <tr>\n",
       "      <th>170</th>\n",
       "      <td>6.920</td>\n",
       "      <td>1</td>\n",
       "    </tr>\n",
       "    <tr>\n",
       "      <th>297</th>\n",
       "      <td>6.904</td>\n",
       "      <td>1</td>\n",
       "    </tr>\n",
       "    <tr>\n",
       "      <th>450</th>\n",
       "      <td>6.968</td>\n",
       "      <td>1</td>\n",
       "    </tr>\n",
       "    <tr>\n",
       "      <th>533</th>\n",
       "      <td>6.984</td>\n",
       "      <td>1</td>\n",
       "    </tr>\n",
       "    <tr>\n",
       "      <th>583</th>\n",
       "      <td>6.952</td>\n",
       "      <td>1</td>\n",
       "    </tr>\n",
       "    <tr>\n",
       "      <th>6</th>\n",
       "      <td>7.800</td>\n",
       "      <td>0</td>\n",
       "    </tr>\n",
       "    <tr>\n",
       "      <th>8</th>\n",
       "      <td>7.112</td>\n",
       "      <td>0</td>\n",
       "    </tr>\n",
       "    <tr>\n",
       "      <th>38</th>\n",
       "      <td>7.448</td>\n",
       "      <td>0</td>\n",
       "    </tr>\n",
       "    <tr>\n",
       "      <th>53</th>\n",
       "      <td>7.736</td>\n",
       "      <td>0</td>\n",
       "    </tr>\n",
       "    <tr>\n",
       "      <th>62</th>\n",
       "      <td>7.640</td>\n",
       "      <td>0</td>\n",
       "    </tr>\n",
       "    <tr>\n",
       "      <th>73</th>\n",
       "      <td>7.064</td>\n",
       "      <td>0</td>\n",
       "    </tr>\n",
       "    <tr>\n",
       "      <th>94</th>\n",
       "      <td>7.080</td>\n",
       "      <td>0</td>\n",
       "    </tr>\n",
       "    <tr>\n",
       "      <th>102</th>\n",
       "      <td>7.016</td>\n",
       "      <td>0</td>\n",
       "    </tr>\n",
       "    <tr>\n",
       "      <th>145</th>\n",
       "      <td>7.768</td>\n",
       "      <td>0</td>\n",
       "    </tr>\n",
       "    <tr>\n",
       "      <th>147</th>\n",
       "      <td>7.032</td>\n",
       "      <td>0</td>\n",
       "    </tr>\n",
       "    <tr>\n",
       "      <th>148</th>\n",
       "      <td>7.048</td>\n",
       "      <td>0</td>\n",
       "    </tr>\n",
       "    <tr>\n",
       "      <th>166</th>\n",
       "      <td>7.720</td>\n",
       "      <td>0</td>\n",
       "    </tr>\n",
       "    <tr>\n",
       "      <th>184</th>\n",
       "      <td>7.480</td>\n",
       "      <td>0</td>\n",
       "    </tr>\n",
       "  </tbody>\n",
       "</table>\n",
       "</div>"
      ],
      "text/plain": [
       "     sleeping_hours  stress_level\n",
       "2             7.000             1\n",
       "134           6.936             1\n",
       "170           6.920             1\n",
       "297           6.904             1\n",
       "450           6.968             1\n",
       "533           6.984             1\n",
       "583           6.952             1\n",
       "6             7.800             0\n",
       "8             7.112             0\n",
       "38            7.448             0\n",
       "53            7.736             0\n",
       "62            7.640             0\n",
       "73            7.064             0\n",
       "94            7.080             0\n",
       "102           7.016             0\n",
       "145           7.768             0\n",
       "147           7.032             0\n",
       "148           7.048             0\n",
       "166           7.720             0\n",
       "184           7.480             0"
      ]
     },
     "metadata": {},
     "output_type": "display_data"
    }
   ],
   "source": [
    "given_range = (result_mean - 0.5 <= stress_in_sleep_df.sleeping_hours) & (stress_in_sleep_df.sleeping_hours <= result_mean + 0.5 )\n",
    "\n",
    "ranged_stress_in_sleep_df = stress_in_sleep_df[given_range].nlargest(20, 'stress_level')\n",
    "display(ranged_stress_in_sleep_df.loc[:, [\"sleeping_hours\", \"stress_level\"]])\n"
   ]
  },
  {
   "cell_type": "markdown",
   "metadata": {},
   "source": [
    "7. __Does eating breakfast affect/rely on body temperature?__ First using the \"Sleep Study\" dataset, find the average number of hours of sleep for people who eat breakfast and for those who do not eat breakfast. After that, use the \"Stress in Sleep\" dataset and find the average body temperature within the -0.5 and +0.5 range of sleep hour average from the other dataset."
   ]
  },
  {
   "cell_type": "code",
   "execution_count": 90,
   "metadata": {},
   "outputs": [
    {
     "name": "stdout",
     "output_type": "stream",
     "text": [
      "Sleeping Hours of Those Who Had Breakfast: 6.918032786885246\n",
      "Sleeping Hours of Those Who Didn't Eat Breakfast: 6.2682926829268295\n"
     ]
    }
   ],
   "source": [
    "yes_breakfast = sleep_study_df[\"had_breakfast\"] == \"Yes\"\n",
    "no_breakfast = sleep_study_df[\"had_breakfast\"] == \"No\"\n",
    "\n",
    "breakfast_hour_sleep_mean = sleep_study_df[yes_breakfast].sleeping_hours.mean()\n",
    "no_breakfast_hour_sleep_mean = sleep_study_df[no_breakfast].sleeping_hours.mean()\n",
    "\n",
    "print(f\"Sleeping Hours of Those Who Had Breakfast: {breakfast_hour_sleep_mean}\\nSleeping Hours of Those Who Didn't Eat Breakfast: {no_breakfast_hour_sleep_mean}\")"
   ]
  },
  {
   "cell_type": "code",
   "execution_count": 91,
   "metadata": {},
   "outputs": [
    {
     "name": "stdout",
     "output_type": "stream",
     "text": [
      "Body Temperature of People Who Had Breakfast:\n",
      "95.96512499999997\n"
     ]
    }
   ],
   "source": [
    "given_range = (breakfast_hour_sleep_mean - 0.5 <= stress_in_sleep_df.sleeping_hours) & (stress_in_sleep_df.sleeping_hours <= breakfast_hour_sleep_mean + 0.5 )\n",
    "\n",
    "print(f'Body Temperature of People Who Had Breakfast:\\n{stress_in_sleep_df[given_range].body_temperature.mean()}')"
   ]
  },
  {
   "cell_type": "code",
   "execution_count": 92,
   "metadata": {},
   "outputs": [
    {
     "name": "stdout",
     "output_type": "stream",
     "text": [
      "Body Temperature of People Who Had No Breakfast:\n",
      "95.272\n"
     ]
    }
   ],
   "source": [
    "given_range = (no_breakfast_hour_sleep_mean - 0.5 <= stress_in_sleep_df.sleeping_hours) & (stress_in_sleep_df.sleeping_hours <= no_breakfast_hour_sleep_mean + 0.5 )\n",
    "\n",
    "print(f'Body Temperature of People Who Had No Breakfast:\\n{stress_in_sleep_df[given_range].body_temperature.mean()}')"
   ]
  },
  {
   "cell_type": "markdown",
   "metadata": {},
   "source": [
    "Observation: There is a small difference in average body temperature between those who eat breakfast and doesn't eat breakfast, but the difference is marginal."
   ]
  },
  {
   "cell_type": "markdown",
   "metadata": {},
   "source": [
    "8. __Is tiredness rating influenced by the amount of limb movement a person experiences in their sleep?__ Using the \"Sleep Study\" dataset, find the average sleeping hours of people with tiredness ratings 3 and higher. Do the same for people with tiredness ratings lower than 3. Now using the \"Stress in Sleep\" dataset, find the average amount of limb movement within -0.5 and +0.5 range for each of the sleep hour averages."
   ]
  },
  {
   "cell_type": "code",
   "execution_count": 93,
   "metadata": {},
   "outputs": [
    {
     "name": "stdout",
     "output_type": "stream",
     "text": [
      "Sleeping Hour Average of People of Tiredness Rating Levels Lower Than 3:\n",
      "6.583333333333333\n",
      " \n",
      "Sleeping Hour Average of People of Tiredness Rating Levels 3 or Higher:\n",
      "6.833333333333333\n"
     ]
    }
   ],
   "source": [
    "low_tired_sleep_mean = sleep_study_df[lower_tiredness_mask].sleeping_hours.mean()\n",
    "high_tired_sleep_mean = sleep_study_df[higher_tiredness_mask].sleeping_hours.mean()\n",
    "\n",
    "print(f\"Sleeping Hour Average of People of Tiredness Rating Levels Lower Than 3:\\n{low_tired_sleep_mean}\\n \")\n",
    "print(f\"Sleeping Hour Average of People of Tiredness Rating Levels 3 or Higher:\\n{high_tired_sleep_mean}\")"
   ]
  },
  {
   "cell_type": "code",
   "execution_count": 94,
   "metadata": {},
   "outputs": [
    {
     "name": "stdout",
     "output_type": "stream",
     "text": [
      "Amount of Limb Movement of People With a Tiredness Rating Lower Than 3:\n",
      "9.031749999999997\n"
     ]
    }
   ],
   "source": [
    "given_range = (low_tired_sleep_mean - 0.5 <= stress_in_sleep_df.sleeping_hours) & (stress_in_sleep_df.sleeping_hours <= low_tired_sleep_mean + 0.5 )\n",
    "\n",
    "print(f'Amount of Limb Movement of People With a Tiredness Rating Lower Than 3:\\n{stress_in_sleep_df[given_range].limb_movement.mean()}')"
   ]
  },
  {
   "cell_type": "code",
   "execution_count": 95,
   "metadata": {},
   "outputs": [
    {
     "name": "stdout",
     "output_type": "stream",
     "text": [
      "Amount of Limb Movement of People With a Tiredness Rating 3 and Higher:\n",
      "7.887999999999998\n"
     ]
    }
   ],
   "source": [
    "given_range = (high_tired_sleep_mean - 0.5 <= stress_in_sleep_df.sleeping_hours) & (stress_in_sleep_df.sleeping_hours <= high_tired_sleep_mean + 0.5 )\n",
    "\n",
    "print(f'Amount of Limb Movement of People With a Tiredness Rating 3 and Higher:\\n{stress_in_sleep_df[given_range].limb_movement.mean()}')"
   ]
  },
  {
   "cell_type": "markdown",
   "metadata": {},
   "source": [
    "### Visualization Data"
   ]
  },
  {
   "cell_type": "code",
   "execution_count": 96,
   "metadata": {},
   "outputs": [],
   "source": [
    "label_size = 15\n",
    "title_size = 20"
   ]
  },
  {
   "cell_type": "markdown",
   "metadata": {},
   "source": [
    "1. Using the \"Stress in Sleep\" dataset, create a scatterplot that describes the correlation between a person's heart rate and their sleeping hours."
   ]
  },
  {
   "cell_type": "code",
   "execution_count": 97,
   "metadata": {},
   "outputs": [
    {
     "data": {
      "image/png": "[encoded data removed]",
      "text/plain": [
       "<Figure size 1080x576 with 1 Axes>"
      ]
     },
     "metadata": {
      "needs_background": "light"
     },
     "output_type": "display_data"
    }
   ],
   "source": [
    "plt.figure(figsize=(15, 8))\n",
    "\n",
    "sleeping_hours = stress_in_sleep_df.sleeping_hours\n",
    "heart_rate = stress_in_sleep_df.heart_rate\n",
    "\n",
    "plot = sns.scatterplot(x=sleeping_hours, y=heart_rate)\n",
    "\n",
    "plt.xlabel('Sleeping Hours', fontsize=label_size)\n",
    "plt.ylabel('Heart Rate', fontsize=label_size)\n",
    "plt.title(\"Heart Rate and Sleeping Hours\", fontsize=title_size);"
   ]
  },
  {
   "cell_type": "markdown",
   "metadata": {},
   "source": [
    "Observation: There's a sign of auto-generated data."
   ]
  },
  {
   "cell_type": "markdown",
   "metadata": {},
   "source": [
    "2. Using the \"Sleep Study\" dataset, create a bar chart that describes the amount of sleeping hours of the following:\n",
    "<ul>\n",
    "<li>People who eat breakfast and has gotten enough sleep</li>\n",
    "<li>People who did not eat breakfast and has gotten enough sleep</li>\n",
    "<li>People who eat breakfast and hasn't gotten enough sleep</li>\n",
    "<li>People who did not eat breakfast and hasn't gotten enough sleep</li>\n",
    "</ul>\n",
    "\n",
    "\n",
    "Note: There should be 4 bars."
   ]
  },
  {
   "cell_type": "code",
   "execution_count": 98,
   "metadata": {},
   "outputs": [
    {
     "ename": "IndexError",
     "evalue": "list index out of range",
     "output_type": "error",
     "traceback": [
      "\u001b[1;31m---------------------------------------------------------------------------\u001b[0m",
      "\u001b[1;31mIndexError\u001b[0m                                Traceback (most recent call last)",
      "\u001b[1;32mc:\\Users\\harri\\Desktop\\Fall 2022\\Intro to Data Science\\Sleep Dataset Project\\sleep_study_analysis.ipynb Cell 59\u001b[0m in \u001b[0;36m<cell line: 31>\u001b[1;34m()\u001b[0m\n\u001b[0;32m     <a href='vscode-notebook-cell:/c%3A/Users/harri/Desktop/Fall%202022/Intro%20to%20Data%20Science/Sleep%20Dataset%20Project/sleep_study_analysis.ipynb#Y110sZmlsZQ%3D%3D?line=28'>29</a>\u001b[0m plt\u001b[39m.\u001b[39mylabel(\u001b[39m'\u001b[39m\u001b[39mSleeping Hours\u001b[39m\u001b[39m'\u001b[39m, fontsize\u001b[39m=\u001b[39mlabel_size)\n\u001b[0;32m     <a href='vscode-notebook-cell:/c%3A/Users/harri/Desktop/Fall%202022/Intro%20to%20Data%20Science/Sleep%20Dataset%20Project/sleep_study_analysis.ipynb#Y110sZmlsZQ%3D%3D?line=29'>30</a>\u001b[0m plt\u001b[39m.\u001b[39mtitle(\u001b[39m\"\u001b[39m\u001b[39mGetting Enough Sleep and Having Breakfast vs. Sleeping Hours\u001b[39m\u001b[39m\"\u001b[39m, fontsize\u001b[39m=\u001b[39mtitle_size);\n\u001b[1;32m---> <a href='vscode-notebook-cell:/c%3A/Users/harri/Desktop/Fall%202022/Intro%20to%20Data%20Science/Sleep%20Dataset%20Project/sleep_study_analysis.ipynb#Y110sZmlsZQ%3D%3D?line=30'>31</a>\u001b[0m plot\u001b[39m.\u001b[39mbar_label(plot\u001b[39m.\u001b[39;49mcontainers[\u001b[39m0\u001b[39;49m], fontsize\u001b[39m=\u001b[39mlabel_size)\n",
      "\u001b[1;31mIndexError\u001b[0m: list index out of range"
     ]
    },
    {
     "data": {
      "image/png": "[encoded data removed]",
      "text/plain": [
       "<Figure size 1080x576 with 1 Axes>"
      ]
     },
     "metadata": {
      "needs_background": "light"
     },
     "output_type": "display_data"
    }
   ],
   "source": [
    "plt.figure(figsize=(15, 8))\n",
    "\n",
    "breakfast_list = ['Yes', 'No']\n",
    "enough_sleep_list = ['Yes', 'No']\n",
    "\n",
    "breakfast_sleep = []\n",
    "breakfast_sleep_for_label = []\n",
    "means = []\n",
    "\n",
    "for b in breakfast_list:\n",
    "    for e in enough_sleep_list:\n",
    "        mask = (sleep_study_df[\"had_breakfast\"] == b) & (sleep_study_df[\"enough_sleep\"] == e)\n",
    "        average = sleep_study_df[mask].sleeping_hours.mean()\n",
    "        breakfast_sleep.append(f'{b} {e}')\n",
    "        means.append(average)\n",
    "\n",
    "for s in breakfast_sleep:\n",
    "    if s == \"Yes Yes\":\n",
    "        breakfast_sleep_for_label.append(\"Had Breakfast | Enough Sleep\")\n",
    "    if s == \"Yes No\":\n",
    "        breakfast_sleep_for_label.append(\"Had Breakfast | Not Enough Sleep\")\n",
    "    if s == \"No Yes\":\n",
    "        breakfast_sleep_for_label.append(\"No Breakfast | Enough Sleep\")\n",
    "    if s == \"No No\":\n",
    "        breakfast_sleep_for_label.append(\"No Breakfast | Not Enough Sleep\")\n",
    "\n",
    "sns.barplot(x=breakfast_sleep_for_label, y=means, palette=\"mako\")\n",
    "plt.xlabel('Breakfast and Sleep', fontsize=label_size)\n",
    "plt.ylabel('Sleeping Hours', fontsize=label_size)\n",
    "plt.title(\"Getting Enough Sleep and Having Breakfast vs. Sleeping Hours\", fontsize=title_size);\n",
    "plot.bar_label(plot.containers[0], fontsize=label_size);\n"
   ]
  },
  {
   "cell_type": "markdown",
   "metadata": {},
   "source": [
    "3. Using the \"Stress in Sleep\" dataset, create a scatterplot that plots eye movement levels for people with a heart rate level higher than or equal to the average heart rate level and for people with a heart rate level lower than the average heart rate level (there should be two colors representing each group of people)."
   ]
  },
  {
   "cell_type": "code",
   "execution_count": null,
   "metadata": {},
   "outputs": [
    {
     "data": {
      "image/png": "[encoded data removed]",
      "text/plain": [
       "<Figure size 1080x576 with 1 Axes>"
      ]
     },
     "metadata": {
      "needs_background": "light"
     },
     "output_type": "display_data"
    }
   ],
   "source": [
    "plt.figure(figsize=(15, 8))\n",
    "\n",
    "lower_heart_rate = stress_in_sleep_df[\"heart_rate\"] < stress_in_sleep_df[\"heart_rate\"].mean()\n",
    "higher_heart_rate = stress_in_sleep_df[\"heart_rate\"] >= stress_in_sleep_df[\"heart_rate\"].mean()\n",
    "\n",
    "eye_movement = stress_in_sleep_df[\"eye_movement\"]\n",
    "lower_heart_rate = stress_in_sleep_df[lower_heart_rate].heart_rate\n",
    "higher_heart_rate = stress_in_sleep_df[higher_heart_rate].heart_rate\n",
    "\n",
    "plot = sns.scatterplot(x=eye_movement, y=lower_heart_rate)\n",
    "plot1 = sns.scatterplot(x=eye_movement, y=higher_heart_rate)\n",
    "\n",
    "plt.xlabel('Eye Movement', fontsize=label_size)\n",
    "plt.ylabel('Heart Rate', fontsize=label_size)\n",
    "plt.title(\"Eye Movement and Heart Rate\", fontsize=title_size);\n"
   ]
  },
  {
   "cell_type": "markdown",
   "metadata": {},
   "source": [
    "Observation: Another sign of generated data."
   ]
  },
  {
   "cell_type": "markdown",
   "metadata": {},
   "source": [
    "4. Using the \"Stress in Sleep\" dataset, create a bar plot that plots the average body oxygen levels for people with a stress level higher than or equal to the median stress level and for people with a stress level lower than the median heart rate level (there should be two colors representing each group of people)."
   ]
  },
  {
   "cell_type": "code",
   "execution_count": null,
   "metadata": {},
   "outputs": [
    {
     "data": {
      "image/png": "[encoded data removed]",
      "text/plain": [
       "<Figure size 1080x576 with 1 Axes>"
      ]
     },
     "metadata": {
      "needs_background": "light"
     },
     "output_type": "display_data"
    }
   ],
   "source": [
    "plt.figure(figsize=(15, 8))\n",
    "\n",
    "lower_stress_level = stress_in_sleep_df[\"stress_level\"] < stress_in_sleep_df[\"stress_level\"].median()\n",
    "higher_stress_level = stress_in_sleep_df[\"stress_level\"] >= stress_in_sleep_df[\"stress_level\"].median()\n",
    "\n",
    "stress_level = [\"High Stress\", \"Low Stress\"]\n",
    "body_oxygen = [stress_in_sleep_df[higher_stress_level].body_oxygen.mean(), stress_in_sleep_df[lower_stress_level].body_oxygen.mean()]\n",
    "\n",
    "plot = sns.barplot(x=stress_level, y=body_oxygen, palette=\"mako\")\n",
    "\n",
    "plt.xlabel('Body Oxygen', fontsize=label_size)\n",
    "plt.ylabel('Stress Level', fontsize=label_size)\n",
    "plt.title(\"Stress and Body Oxygen Levels\", fontsize=title_size)\n",
    "plot.bar_label(plot.containers[0], fontsize=label_size);\n"
   ]
  }
 ],
 "metadata": {
  "kernelspec": {
   "display_name": "Python 3.9.12 ('base')",
   "language": "python",
   "name": "python3"
  },
  "language_info": {
   "codemirror_mode": {
    "name": "ipython",
    "version": 3
   },
   "file_extension": ".py",
   "mimetype": "text/x-python",
   "name": "python",
   "nbconvert_exporter": "python",
   "pygments_lexer": "ipython3",
   "version": "3.9.12"
  },
  "orig_nbformat": 4,
  "vscode": {
   "interpreter": {
    "hash": "0e7cf11cacfc6a88ae7db4161d0ba6bf4bea679b646a8b02aea1d775aeca3ab2"
   }
  }
 },
 "nbformat": 4,
 "nbformat_minor": 2
}
